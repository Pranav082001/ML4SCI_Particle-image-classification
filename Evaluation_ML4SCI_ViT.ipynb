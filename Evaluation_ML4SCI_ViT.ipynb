{
  "cells": [
    {
      "cell_type": "code",
      "execution_count": 1,
      "metadata": {
        "colab": {
          "base_uri": "https://localhost:8080/",
          "height": 53
        },
        "id": "IY84tGAlZDck",
        "outputId": "074770e3-8aa9-4e0b-8a66-2f07bc37b6f8"
      },
      "outputs": [
        {
          "data": {
            "application/vnd.google.colaboratory.intrinsic+json": {
              "type": "string"
            },
            "text/plain": [
              "'\\nNote--\\n\\n1) Dont forget to change the model path\\n2) Load the data same as given in sample notebook, \\n   That is X_train/x_valid should of shpae (N,32,32,2)\\n     \\n'"
            ]
          },
          "execution_count": 1,
          "metadata": {},
          "output_type": "execute_result"
        }
      ],
      "source": [
        "'''\n",
        "Note--\n",
        "\n",
        "1) Dont forget to change the model path\n",
        "2) Load the data in the same format as given in sample notebook, \n",
        "   That is X_train/x_valid should of shpae (N,32,32,2)\n",
        "'''"
      ]
    },
    {
      "cell_type": "code",
      "execution_count": 21,
      "metadata": {
        "id": "tZBKWsKNNqPz"
      },
      "outputs": [],
      "source": [
        "model_path=\"/content/ViT_Final_model.pth\""
      ]
    },
    {
      "cell_type": "markdown",
      "metadata": {
        "id": "RrqXFtbUWTRO"
      },
      "source": [
        "# Basic setup and importing required libraries"
      ]
    },
    {
      "cell_type": "code",
      "execution_count": 3,
      "metadata": {
        "colab": {
          "base_uri": "https://localhost:8080/"
        },
        "id": "DgLgquWjHB4x",
        "outputId": "a33f0db7-977f-4f70-dbfa-741a3e6aab48"
      },
      "outputs": [
        {
          "name": "stdout",
          "output_type": "stream",
          "text": [
            "--2021-11-28 16:12:02--  https://cernbox.cern.ch/index.php/s/sHjzCNFTFxutYCj/download\n",
            "Resolving cernbox.cern.ch (cernbox.cern.ch)... 137.138.120.151, 188.184.97.72, 128.142.53.35, ...\n",
            "Connecting to cernbox.cern.ch (cernbox.cern.ch)|137.138.120.151|:443... connected.\n",
            "HTTP request sent, awaiting response... 200 OK\n",
            "Length: 87010508 (83M) [application/octet-stream]\n",
            "Saving to: ‘Electron.hdf5’\n",
            "\n",
            "Electron.hdf5       100%[===================>]  82.98M  18.8MB/s    in 4.6s    \n",
            "\n",
            "Last-modified header invalid -- time-stamp ignored.\n",
            "2021-11-28 16:12:09 (17.8 MB/s) - ‘Electron.hdf5’ saved [87010508/87010508]\n",
            "\n",
            "--2021-11-28 16:12:09--  https://cernbox.cern.ch/index.php/s/69nGEZjOy3xGxBq/download\n",
            "Resolving cernbox.cern.ch (cernbox.cern.ch)... 128.142.53.28, 128.142.53.35, 137.138.120.151, ...\n",
            "Connecting to cernbox.cern.ch (cernbox.cern.ch)|128.142.53.28|:443... connected.\n",
            "HTTP request sent, awaiting response... 200 OK\n",
            "Length: 79876391 (76M) [application/octet-stream]\n",
            "Saving to: ‘Photon.hdf5’\n",
            "\n",
            "Photon.hdf5         100%[===================>]  76.18M  17.4MB/s    in 4.4s    \n",
            "\n",
            "Last-modified header invalid -- time-stamp ignored.\n",
            "2021-11-28 16:12:16 (17.4 MB/s) - ‘Photon.hdf5’ saved [79876391/79876391]\n",
            "\n"
          ]
        }
      ],
      "source": [
        "#!/bin/bash\n",
        "!wget https://cernbox.cern.ch/index.php/s/sHjzCNFTFxutYCj/download -O Electron.hdf5\n",
        "!wget https://cernbox.cern.ch/index.php/s/69nGEZjOy3xGxBq/download -O Photon.hdf5"
      ]
    },
    {
      "cell_type": "code",
      "execution_count": 4,
      "metadata": {
        "colab": {
          "base_uri": "https://localhost:8080/"
        },
        "id": "uHFKUMOjKmDD",
        "outputId": "2224c661-d78b-4048-cf8f-1d63948f050a"
      },
      "outputs": [
        {
          "name": "stdout",
          "output_type": "stream",
          "text": [
            "Collecting einops\n",
            "  Downloading einops-0.3.2-py3-none-any.whl (25 kB)\n",
            "Installing collected packages: einops\n",
            "Successfully installed einops-0.3.2\n"
          ]
        }
      ],
      "source": [
        "! pip install einops"
      ]
    },
    {
      "cell_type": "code",
      "execution_count": 5,
      "metadata": {
        "id": "Mr9_DIYG0B3H"
      },
      "outputs": [],
      "source": [
        "import h5py\n",
        "import numpy as np\n",
        "from sklearn.model_selection import train_test_split\n",
        "from sklearn.preprocessing import OrdinalEncoder\n",
        "from sklearn.utils import shuffle\n",
        "from sklearn.metrics import roc_curve, auc\n",
        "\n",
        "\n",
        "import torch\n",
        "import torch.nn.functional as F\n",
        "import matplotlib.pyplot as plt\n",
        "\n",
        "from torch import nn\n",
        "from torch import Tensor\n",
        "from PIL import Image\n",
        "from torchvision.transforms import Compose, Resize, ToTensor\n",
        "from torch.optim.lr_scheduler import StepLR\n",
        "from torch.utils.data import DataLoader, Dataset\n",
        "from torchvision import datasets, transforms\n",
        "from einops import rearrange, reduce, repeat\n",
        "from einops.layers.torch import Rearrange, Reduce\n"
      ]
    },
    {
      "cell_type": "code",
      "execution_count": 6,
      "metadata": {
        "id": "PwL5NZMOPJ_M"
      },
      "outputs": [],
      "source": [
        "np.random.seed(1337)  # for reproducibility\n",
        "\n",
        "img_rows, img_cols, nb_channels = 32, 32, 2        \n",
        "input_dir = 'data'\n",
        "decays = ['SinglePhotonPt50_IMGCROPS_n249k_RHv1', 'SingleElectronPt50_IMGCROPS_n249k_RHv1']\n"
      ]
    },
    {
      "cell_type": "code",
      "execution_count": 7,
      "metadata": {
        "id": "cLkdBDDqKBde"
      },
      "outputs": [],
      "source": [
        "device =torch.device(\"cuda\" if torch.cuda.is_available() else \"Cpu\")"
      ]
    },
    {
      "cell_type": "markdown",
      "metadata": {
        "id": "_gQ0ADpEWZ-F"
      },
      "source": [
        "# Dataset Preparation"
      ]
    },
    {
      "cell_type": "code",
      "execution_count": 8,
      "metadata": {
        "id": "reKPTlluHj5N"
      },
      "outputs": [],
      "source": [
        "filename = \"./Electron.hdf5\"\n",
        "data1 = h5py.File(filename, \"r\")\n",
        "Y1 = data1[\"y\"]\n",
        "X1 = data1[\"X\"]\n",
        "filename = \"./Photon.hdf5\"\n",
        "data0 = h5py.File(filename, \"r\")\n",
        "Y0 = data0[\"y\"]\n",
        "X0 = data0[\"X\"]\n",
        "X_final = np.concatenate((X0[:], X1[:]), axis=0)\n",
        "Y_final = np.concatenate((Y0[:], Y1[:]), axis=0)\n",
        "\n",
        "\n",
        "num_classes = 2\n",
        "input_shape = (32, 32, 2) #Using the Hit-Energy channel only\n",
        "\n"
      ]
    },
    {
      "cell_type": "code",
      "execution_count": 9,
      "metadata": {
        "colab": {
          "base_uri": "https://localhost:8080/"
        },
        "id": "8sX_0vXi9kXh",
        "outputId": "207f736a-2fd3-41d1-b4f1-34b70ee591bd"
      },
      "outputs": [
        {
          "name": "stdout",
          "output_type": "stream",
          "text": [
            "x_train shape: (338640, 32, 32, 2) - y_train shape: (338640,)\n",
            "x_test shape: (84660, 32, 32, 2) - y_test shape: (84660,)\n"
          ]
        }
      ],
      "source": [
        "from sklearn.model_selection import train_test_split\n",
        "\n",
        "X_train, X_test, y_train, y_test = train_test_split(\n",
        "    X_final,\n",
        "    Y_final,\n",
        "    test_size=0.2,\n",
        "    random_state=42,stratify=Y_final,shuffle=True\n",
        ")\n",
        "    \n",
        "print(f\"x_train shape: {X_train.shape} - y_train shape: {y_train.shape}\")\n",
        "print(f\"x_test shape: {X_test.shape} - y_test shape: {y_test.shape}\")"
      ]
    },
    {
      "cell_type": "code",
      "execution_count": 10,
      "metadata": {
        "id": "908a7d-4sb3t"
      },
      "outputs": [],
      "source": [
        "data_transforms =transforms.Compose([\n",
        "            transforms.ToTensor(),\n",
        "        transforms.Normalize([0.5], [0.5]),\n",
        "        \n",
        "        ])"
      ]
    },
    {
      "cell_type": "code",
      "execution_count": 43,
      "metadata": {
        "id": "WYEHGwEeJ5o-"
      },
      "outputs": [],
      "source": [
        "class ML4SCI_Dataset():\n",
        "  def __init__(self,X,Y,in_channels=2):\n",
        "    self.X=X\n",
        "    self.Y=Y\n",
        "\n",
        "    self.data_transforms=data_transforms\n",
        "  def __len__(self):\n",
        "      return len(self.X)\n",
        "\n",
        "  def __getitem__(self,idx):\n",
        "    return (data_transforms(self.X[idx]),torch.tensor(self.Y[idx],dtype=torch.int))\n"
      ]
    },
    {
      "cell_type": "code",
      "execution_count": 16,
      "metadata": {
        "colab": {
          "base_uri": "https://localhost:8080/"
        },
        "id": "5gsasdU7SAIX",
        "outputId": "f1b5a5b0-7844-47f0-f096-2e27383451ea"
      },
      "outputs": [
        {
          "name": "stdout",
          "output_type": "stream",
          "text": [
            "(84660, 32, 32, 2)\n"
          ]
        },
        {
          "data": {
            "text/plain": [
              "<__main__.ML4SCI_Dataset at 0x7f8a515c2050>"
            ]
          },
          "execution_count": 16,
          "metadata": {},
          "output_type": "execute_result"
        }
      ],
      "source": [
        "ML4SCI_Dataset(X_test,y_test)"
      ]
    },
    {
      "cell_type": "code",
      "execution_count": 36,
      "metadata": {
        "colab": {
          "base_uri": "https://localhost:8080/"
        },
        "id": "zM2dzCjOVZnx",
        "outputId": "5b1ee2b1-7e6f-4d9e-fb69-c341785c268a"
      },
      "outputs": [
        {
          "data": {
            "text/plain": [
              "3401"
            ]
          },
          "execution_count": null,
          "metadata": {},
          "output_type": "execute_result"
        }
      ],
      "source": [
        "import gc\n",
        "gc.collect()"
      ]
    },
    {
      "cell_type": "markdown",
      "metadata": {
        "id": "rSr277wSspfC"
      },
      "source": [
        "# Compiling the model"
      ]
    },
    {
      "cell_type": "code",
      "execution_count": 24,
      "metadata": {
        "id": "7OQEnWeOsvEt"
      },
      "outputs": [],
      "source": [
        "\n",
        "class PatchEmbedding(nn.Module):\n",
        "    def __init__(self, in_channels: int = 2, patch_size: int = 4, emb_size: int = 128, img_size: int = 32):\n",
        "        self.patch_size = patch_size\n",
        "        super().__init__()\n",
        "        self.projection = nn.Sequential(\n",
        "            # using a conv layer instead of a linear one -> performance gains\n",
        "            nn.Conv2d(in_channels, emb_size, kernel_size=patch_size, stride=patch_size),\n",
        "            Rearrange('b e (h) (w) -> b (h w) e'),\n",
        "        )\n",
        "        self.cls_token = nn.Parameter(torch.randn(1,1, emb_size))\n",
        "        self.positions = nn.Parameter(torch.randn((img_size // patch_size) **2 + 1, emb_size))\n",
        "\n",
        "        \n",
        "    def forward(self, x: Tensor) -> Tensor:\n",
        "        b, _, _, _ = x.shape\n",
        "        x = self.projection(x)\n",
        "        cls_tokens = repeat(self.cls_token, '() n e -> b n e', b=b)\n",
        "        # prepend the cls token to the input\n",
        "        x = torch.cat([cls_tokens, x], dim=1)\n",
        "        # add position embedding\n",
        "        x += self.positions\n",
        "        return x\n",
        "    \n",
        "\n",
        "class MultiHeadAttention(nn.Module):\n",
        "    def __init__(self, emb_size: int = 128, num_heads: int = 8, dropout: float = 0):\n",
        "        super().__init__()\n",
        "        self.emb_size = emb_size\n",
        "        self.num_heads = num_heads\n",
        "        # fuse the queries, keys and values in one matrix\n",
        "        self.qkv = nn.Linear(emb_size, emb_size * 3)\n",
        "        self.att_drop = nn.Dropout(dropout)\n",
        "        self.projection = nn.Linear(emb_size, emb_size)\n",
        "        \n",
        "    def forward(self, x : Tensor, mask: Tensor = None) -> Tensor:\n",
        "        # split keys, queries and values in num_heads\n",
        "        qkv = rearrange(self.qkv(x), \"b n (h d qkv) -> (qkv) b h n d\", h=self.num_heads, qkv=3)\n",
        "        queries, keys, values = qkv[0], qkv[1], qkv[2]\n",
        "        # sum up over the last axis\n",
        "        energy = torch.einsum('bhqd, bhkd -> bhqk', queries, keys) # batch, num_heads, query_len, key_len\n",
        "        if mask is not None:\n",
        "            fill_value = torch.finfo(torch.float32).min\n",
        "            energy.mask_fill(~mask, fill_value)\n",
        "            \n",
        "        scaling = self.emb_size ** (1/2)\n",
        "        att = F.softmax(energy, dim=-1) / scaling\n",
        "        att = self.att_drop(att)\n",
        "        # sum up over the third axis\n",
        "        out = torch.einsum('bhal, bhlv -> bhav ', att, values)\n",
        "        out = rearrange(out, \"b h n d -> b n (h d)\")\n",
        "        out = self.projection(out)\n",
        "        return out\n",
        "    \n",
        "class ResidualAdd(nn.Module):\n",
        "    def __init__(self, fn):\n",
        "        super().__init__()\n",
        "        self.fn = fn\n",
        "        \n",
        "    def forward(self, x, **kwargs):\n",
        "        res = x\n",
        "        x = self.fn(x, **kwargs)\n",
        "        x += res\n",
        "        return x\n",
        "class FeedForwardBlock(nn.Sequential):\n",
        "    def __init__(self, emb_size: int, expansion: int = 4, drop_p: float = 0.):\n",
        "        super().__init__(\n",
        "            nn.Linear(emb_size, expansion * emb_size),\n",
        "            nn.GELU(),\n",
        "            nn.Dropout(drop_p),\n",
        "            nn.Linear(expansion * emb_size, emb_size),\n",
        "        )\n",
        "class TransformerEncoderBlock(nn.Sequential):\n",
        "    def __init__(self,\n",
        "                 emb_size: int = 256,\n",
        "                 drop_p: float = 0.,\n",
        "                 forward_expansion: int = 4,\n",
        "                 forward_drop_p: float = 0.,\n",
        "                 ** kwargs):\n",
        "        super().__init__(\n",
        "            ResidualAdd(nn.Sequential(\n",
        "                nn.LayerNorm(emb_size),\n",
        "                MultiHeadAttention(emb_size, **kwargs),\n",
        "                nn.Dropout(drop_p)\n",
        "            )),\n",
        "            ResidualAdd(nn.Sequential(\n",
        "                nn.LayerNorm(emb_size),\n",
        "                FeedForwardBlock(\n",
        "                    emb_size, expansion=forward_expansion, drop_p=forward_drop_p),\n",
        "                nn.Dropout(drop_p)\n",
        "            )\n",
        "            ))\n",
        "class TransformerEncoder(nn.Sequential):\n",
        "    def __init__(self, depth: int = 12, **kwargs):\n",
        "        super().__init__(*[TransformerEncoderBlock(**kwargs) for _ in range(depth)])\n",
        "class ClassificationHead(nn.Sequential):\n",
        "    def __init__(self, emb_size: int = 128, n_classes: int = 2):\n",
        "        super().__init__(\n",
        "            Reduce('b n e -> b e', reduction='mean'),\n",
        "            nn.LayerNorm(emb_size), \n",
        "            nn.Linear(emb_size, n_classes))\n"
      ]
    },
    {
      "cell_type": "code",
      "execution_count": 25,
      "metadata": {
        "id": "Dhd9JA3puPdL"
      },
      "outputs": [],
      "source": [
        "class ViT(nn.Sequential):\n",
        "    def __init__(self,     \n",
        "                in_channels: int = 1,\n",
        "                patch_size: int = 4,\n",
        "                emb_size: int = 128,\n",
        "                img_size: int = 32,\n",
        "                depth: int = 12,\n",
        "                n_classes: int = 1,\n",
        "                **kwargs):\n",
        "        super().__init__(\n",
        "            PatchEmbedding(in_channels, patch_size, emb_size, img_size),\n",
        "            TransformerEncoder(depth, emb_size=emb_size, **kwargs),\n",
        "            ClassificationHead(emb_size, n_classes)\n",
        "        )\n",
        "        \n"
      ]
    },
    {
      "cell_type": "markdown",
      "metadata": {
        "id": "sAvabRlHPgP0"
      },
      "source": [
        "# Final Evaluation "
      ]
    },
    {
      "cell_type": "code",
      "execution_count": 26,
      "metadata": {
        "colab": {
          "base_uri": "https://localhost:8080/"
        },
        "id": "NlzIBpuFfg73",
        "outputId": "a3a1feb2-cd5a-4511-8162-5603c79acaf3"
      },
      "outputs": [
        {
          "name": "stdout",
          "output_type": "stream",
          "text": [
            "x_train shape: (338640, 32, 32, 2) - y_train shape: (338640,)\n",
            "x_test shape: (84660, 32, 32, 2) - y_test shape: (84660,)\n"
          ]
        }
      ],
      "source": [
        "print(f\"x_train shape: {X_train.shape} - y_train shape: {y_train.shape}\")\n",
        "print(f\"x_test shape: {X_test.shape} - y_test shape: {y_test.shape}\")"
      ]
    },
    {
      "cell_type": "code",
      "execution_count": 27,
      "metadata": {
        "id": "IepFMVD9RLm6"
      },
      "outputs": [],
      "source": [
        "device=torch.device(\"cuda\" if torch.cuda.is_available() else \"cpu\")"
      ]
    },
    {
      "cell_type": "code",
      "execution_count": 29,
      "metadata": {
        "colab": {
          "base_uri": "https://localhost:8080/"
        },
        "id": "94OiAfywVH0x",
        "outputId": "95acd742-3fe6-452a-ec63-5ff6b73ddbcf"
      },
      "outputs": [
        {
          "data": {
            "text/plain": [
              "806"
            ]
          },
          "execution_count": 29,
          "metadata": {},
          "output_type": "execute_result"
        }
      ],
      "source": [
        "import gc\n",
        "gc.collect()"
      ]
    },
    {
      "cell_type": "code",
      "execution_count": 44,
      "metadata": {
        "id": "FKgWO-FWbOY7"
      },
      "outputs": [],
      "source": [
        "def evaluate(X,Y,model_path):\n",
        "  '''\n",
        "  Arguments-\n",
        "  1) X-- Numpy arrays of input images of shape (N,32,32,2)\n",
        "  2) Y -- Labels of shape (N,)\n",
        "  3) model_path\n",
        "  '''\n",
        "\n",
        "  model=torch.load(model_path).to(device)\n",
        "  data=ML4SCI_Dataset(X,Y,in_channels=2)\n",
        "  data_loader= DataLoader(dataset = data, batch_size = 128, shuffle = True)\n",
        "\n",
        "\n",
        "  a,y_true,y_pred=[],torch.tensor([]),torch.tensor([])\n",
        "  with torch.no_grad():\n",
        "      for data, label in data_loader:\n",
        "\n",
        "          data = data.to(device)\n",
        "          label = label.to(device)\n",
        "          label_oh = torch.nn.functional.one_hot(label.long(), num_classes = 2)\n",
        "\n",
        "          val_output = model(data)\n",
        "          label_oh = label.type_as(val_output)\n",
        "\n",
        "          y_pred_val=val_output.argmax(dim=1)\n",
        "\n",
        "          val_acc = (y_pred_val == label).float().mean()\n",
        "          y_pred=torch.cat([y_pred.cpu(),val_output[:,1].cpu()],dim=0)\n",
        "          y_true=torch.cat([y_true.cpu(),label_oh.cpu()],dim=0)\n",
        "\n",
        "      fpr,tpr,_=roc_curve(y_true,y_pred)\n",
        "      print(f\"Accuracy: {val_acc:.2f} AUC{auc(fpr,tpr):.3f}\")\n",
        "\n",
        "      return fpr,tpr"
      ]
    },
    {
      "cell_type": "code",
      "execution_count": 46,
      "metadata": {
        "colab": {
          "base_uri": "https://localhost:8080/"
        },
        "id": "ub0Ont2xLgHn",
        "outputId": "32e321ad-00a7-4b0d-dbbf-328a9e9f392f"
      },
      "outputs": [
        {
          "name": "stdout",
          "output_type": "stream",
          "text": [
            "Evaluating model on Training Dataset\n",
            "Accuracy: 0.78 AUC0.773\n"
          ]
        }
      ],
      "source": [
        "# print(\"Evaluating model on Training Dataset\")\n",
        "# train_fpr,train_tpr=evaluate(X_train,y_train,model_path)"
      ]
    },
    {
      "cell_type": "code",
      "execution_count": 47,
      "metadata": {
        "colab": {
          "base_uri": "https://localhost:8080/"
        },
        "id": "K3aCWJiILn7s",
        "outputId": "099c77ae-e908-4c2d-cc38-cd3a5ce3adb6"
      },
      "outputs": [
        {
          "name": "stdout",
          "output_type": "stream",
          "text": [
            "Validation Data\n",
            "Accuracy: 0.81 AUC0.772\n"
          ]
        }
      ],
      "source": [
        "print(\"Validation Data\")\n",
        "fpr,tpr=evaluate(X_test,y_test,model_path)"
      ]
    },
    {
      "cell_type": "code",
      "execution_count": 48,
      "metadata": {
        "colab": {
          "base_uri": "https://localhost:8080/",
          "height": 295
        },
        "id": "lx_Fxm0ja9wq",
        "outputId": "ad9a3f24-b297-4c64-ac69-e36931ad567c"
      },
      "outputs": [
        {
          "data": {
            "image/png": "[encoded data removed]",
            "text/plain": [
              "<Figure size 432x288 with 1 Axes>"
            ]
          },
          "metadata": {
            "needs_background": "light"
          },
          "output_type": "display_data"
        }
      ],
      "source": [
        "plt.plot([0, 1], [0, 1], 'k--')\n",
        "#plt.legend(loc=2, prop={'size': 15})\n",
        "plt.plot(fpr, tpr, label='Model 1 (ROC-AUC = {:.3f})'.format(auc(fpr,tpr)))\n",
        "plt.xlabel('False positive rate')\n",
        "plt.ylabel('True positive rate')\n",
        "plt.title('ROC curve')\n",
        "plt.legend(loc='best')\n",
        "plt.show()"
      ]
    }
  ],
  "metadata": {
    "accelerator": "GPU",
    "colab": {
      "collapsed_sections": [
        "RrqXFtbUWTRO",
        "rSr277wSspfC"
      ],
      "name": "Evaluation ML4SCI.ipynb",
      "provenance": []
    },
    "kernelspec": {
      "display_name": "Python 3",
      "name": "python3"
    },
    "language_info": {
      "name": "python"
    }
  },
  "nbformat": 4,
  "nbformat_minor": 0
}
